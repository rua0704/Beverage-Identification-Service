{
 "cells": [
  {
   "cell_type": "code",
   "execution_count": 1,
   "id": "d23dfd3b",
   "metadata": {},
   "outputs": [],
   "source": [
    "from keras.models import Sequential\n",
    "from keras.layers import Dropout, Activation, Dense, BatchNormalization\n",
    "from keras.layers import Flatten, Convolution2D, MaxPooling2D\n",
    "from keras.models import load_model\n",
    "from keras.callbacks import ModelCheckpoint,EarlyStopping\n",
    "import os\n",
    "import datetime\n",
    "from keras.utils.np_utils import to_categorical\n",
    "import numpy as np"
   ]
  },
  {
   "cell_type": "code",
   "execution_count": 2,
   "id": "65b57fb1",
   "metadata": {},
   "outputs": [],
   "source": [
    "X_train = np.load('Training/x_train.npy')\n",
    "X_train=X_train/255\n",
    "Y_train = np.load('Training/y_train.npy')\n",
    "Y_train = to_categorical(Y_train)\n",
    "Y_train = np.delete(Y_train,0,axis=1)"
   ]
  },
  {
   "cell_type": "code",
   "execution_count": 3,
   "id": "904ec159",
   "metadata": {},
   "outputs": [],
   "source": [
    "X_test = np.load('Training/x_test.npy')\n",
    "X_test = X_test/255\n",
    "Y_test = np.load('Training/y_test.npy')\n",
    "Y_test = to_categorical(Y_test)\n",
    "Y_test = np.delete(Y_test,0,axis=1)"
   ]
  },
  {
   "cell_type": "code",
   "execution_count": 4,
   "id": "7bd7bd97",
   "metadata": {},
   "outputs": [],
   "source": [
    "X_valid = np.load('Training/x_valid.npy')\n",
    "X_valid = X_valid/255\n",
    "Y_valid = np.load('Training/y_valid.npy')\n",
    "Y_valid = to_categorical(Y_valid)\n",
    "Y_valid = np.delete(Y_valid,0,axis=1)"
   ]
  },
  {
   "cell_type": "markdown",
   "id": "3777f177",
   "metadata": {},
   "source": [
    "학습을 위한 data\n",
    "label은 one-hot 방식으로 가져옴"
   ]
  },
  {
   "cell_type": "code",
   "execution_count": 5,
   "id": "55325173",
   "metadata": {
    "scrolled": false
   },
   "outputs": [
    {
     "name": "stdout",
     "output_type": "stream",
     "text": [
      "Model: \"sequential\"\n",
      "_________________________________________________________________\n",
      "Layer (type)                 Output Shape              Param #   \n",
      "=================================================================\n",
      "conv2d (Conv2D)              (None, 86, 86, 32)        896       \n",
      "_________________________________________________________________\n",
      "batch_normalization (BatchNo (None, 86, 86, 32)        128       \n",
      "_________________________________________________________________\n",
      "activation (Activation)      (None, 86, 86, 32)        0         \n",
      "_________________________________________________________________\n",
      "max_pooling2d (MaxPooling2D) (None, 43, 43, 32)        0         \n",
      "_________________________________________________________________\n",
      "conv2d_1 (Conv2D)            (None, 14, 14, 64)        18496     \n",
      "_________________________________________________________________\n",
      "batch_normalization_1 (Batch (None, 14, 14, 64)        256       \n",
      "_________________________________________________________________\n",
      "activation_1 (Activation)    (None, 14, 14, 64)        0         \n",
      "_________________________________________________________________\n",
      "max_pooling2d_1 (MaxPooling2 (None, 7, 7, 64)          0         \n",
      "_________________________________________________________________\n",
      "conv2d_2 (Conv2D)            (None, 2, 2, 64)          36928     \n",
      "_________________________________________________________________\n",
      "batch_normalization_2 (Batch (None, 2, 2, 64)          256       \n",
      "_________________________________________________________________\n",
      "activation_2 (Activation)    (None, 2, 2, 64)          0         \n",
      "_________________________________________________________________\n",
      "max_pooling2d_2 (MaxPooling2 (None, 1, 1, 64)          0         \n",
      "_________________________________________________________________\n",
      "flatten (Flatten)            (None, 64)                0         \n",
      "_________________________________________________________________\n",
      "dense (Dense)                (None, 128)               8320      \n",
      "_________________________________________________________________\n",
      "dropout (Dropout)            (None, 128)               0         \n",
      "_________________________________________________________________\n",
      "dense_1 (Dense)              (None, 10)                1290      \n",
      "=================================================================\n",
      "Total params: 66,570\n",
      "Trainable params: 66,250\n",
      "Non-trainable params: 320\n",
      "_________________________________________________________________\n"
     ]
    }
   ],
   "source": [
    "model = Sequential()\n",
    "model.add(Convolution2D(32,3, 3, padding='same',\n",
    "                        input_shape=X_train.shape[1:]))\n",
    "model.add(BatchNormalization())\n",
    "model.add(Activation('relu'))\n",
    "model.add(MaxPooling2D(pool_size=(2, 2)))\n",
    "\n",
    "model.add(Convolution2D(64, 3, 3))\n",
    "model.add(BatchNormalization())\n",
    "model.add(Activation('relu'))\n",
    "model.add(MaxPooling2D(pool_size=(2, 2)))\n",
    "\n",
    "model.add(Convolution2D(64, 3, 3))\n",
    "model.add(BatchNormalization())\n",
    "model.add(Activation('relu'))\n",
    "model.add(MaxPooling2D(pool_size=(2, 2)))\n",
    "\n",
    "  \n",
    "model.add(Flatten())\n",
    "model.add(Dense(128, activation = 'relu'))\n",
    "model.add(Dropout(0.5))\n",
    "model.add(Dense(10,activation = 'softmax'))\n",
    "model.summary()\n"
   ]
  },
  {
   "cell_type": "code",
   "execution_count": 6,
   "id": "5550b7bc",
   "metadata": {
    "scrolled": true
   },
   "outputs": [
    {
     "name": "stdout",
     "output_type": "stream",
     "text": [
      "Epoch 1/20\n",
      "36/36 [==============================] - 53s 423ms/step - loss: 2.3848 - accuracy: 0.2338 - val_loss: 2.2650 - val_accuracy: 0.2000\n",
      "Epoch 2/20\n",
      "36/36 [==============================] - 11s 297ms/step - loss: 0.8492 - accuracy: 0.7667 - val_loss: 2.2441 - val_accuracy: 0.1000\n",
      "Epoch 3/20\n",
      "36/36 [==============================] - 11s 295ms/step - loss: 0.4048 - accuracy: 0.8962 - val_loss: 2.2892 - val_accuracy: 0.1000\n",
      "Epoch 4/20\n",
      "36/36 [==============================] - 11s 295ms/step - loss: 0.2370 - accuracy: 0.9477 - val_loss: 2.3569 - val_accuracy: 0.1067\n",
      "Epoch 5/20\n",
      "36/36 [==============================] - 16s 440ms/step - loss: 0.1652 - accuracy: 0.9607 - val_loss: 2.6727 - val_accuracy: 0.1000\n",
      "Epoch 6/20\n",
      "36/36 [==============================] - 12s 332ms/step - loss: 0.1079 - accuracy: 0.9803 - val_loss: 3.2740 - val_accuracy: 0.1000\n",
      "Epoch 7/20\n",
      "36/36 [==============================] - 11s 313ms/step - loss: 0.0724 - accuracy: 0.9876 - val_loss: 2.8251 - val_accuracy: 0.1733\n",
      "Epoch 8/20\n",
      "36/36 [==============================] - 12s 337ms/step - loss: 0.1019 - accuracy: 0.9737 - val_loss: 3.1443 - val_accuracy: 0.1333\n",
      "Epoch 9/20\n",
      "36/36 [==============================] - 11s 317ms/step - loss: 0.0398 - accuracy: 0.9954 - val_loss: 2.9586 - val_accuracy: 0.1267\n",
      "Epoch 10/20\n",
      "36/36 [==============================] - 12s 333ms/step - loss: 0.0455 - accuracy: 0.9908 - val_loss: 1.7693 - val_accuracy: 0.3000\n",
      "Epoch 11/20\n",
      "36/36 [==============================] - 12s 327ms/step - loss: 0.0255 - accuracy: 0.9963 - val_loss: 2.4670 - val_accuracy: 0.2333\n",
      "Epoch 12/20\n",
      "36/36 [==============================] - 12s 328ms/step - loss: 0.0328 - accuracy: 0.9964 - val_loss: 2.1005 - val_accuracy: 0.3533\n",
      "Epoch 13/20\n",
      "36/36 [==============================] - 12s 330ms/step - loss: 0.1024 - accuracy: 0.9749 - val_loss: 0.3672 - val_accuracy: 0.8400\n",
      "Epoch 14/20\n",
      "36/36 [==============================] - 15s 414ms/step - loss: 0.0345 - accuracy: 0.9914 - val_loss: 0.0586 - val_accuracy: 0.9867\n",
      "Epoch 15/20\n",
      "36/36 [==============================] - 15s 400ms/step - loss: 0.0252 - accuracy: 0.9959 - val_loss: 0.1306 - val_accuracy: 0.9333\n",
      "Epoch 16/20\n",
      "36/36 [==============================] - 13s 350ms/step - loss: 0.0375 - accuracy: 0.9847 - val_loss: 0.0272 - val_accuracy: 0.9933\n",
      "Epoch 17/20\n",
      "36/36 [==============================] - 12s 333ms/step - loss: 0.0203 - accuracy: 0.9982 - val_loss: 0.0210 - val_accuracy: 1.0000\n",
      "Epoch 18/20\n",
      "36/36 [==============================] - 13s 348ms/step - loss: 0.0197 - accuracy: 0.9963 - val_loss: 0.0038 - val_accuracy: 1.0000\n",
      "Epoch 19/20\n",
      "36/36 [==============================] - 12s 334ms/step - loss: 0.0105 - accuracy: 0.9991 - val_loss: 0.0019 - val_accuracy: 1.0000\n",
      "Epoch 20/20\n",
      "36/36 [==============================] - 12s 340ms/step - loss: 0.0080 - accuracy: 1.0000 - val_loss: 0.0016 - val_accuracy: 1.0000\n"
     ]
    }
   ],
   "source": [
    "model.compile(loss='categorical_crossentropy',optimizer='Adam',metrics=['accuracy'])\n",
    "\n",
    "model.fit(X_train, Y_train, batch_size=32, epochs=20,validation_data =(X_valid,Y_valid))\n",
    "\n",
    "model.save('Gersang.h5')"
   ]
  },
  {
   "cell_type": "code",
   "execution_count": 7,
   "id": "db645842",
   "metadata": {
    "scrolled": false
   },
   "outputs": [
    {
     "name": "stdout",
     "output_type": "stream",
     "text": [
      "7/7 [==============================] - 1s 197ms/step - loss: 3.4719 - accuracy: 0.6037\n",
      "0.6036866307258606\n"
     ]
    }
   ],
   "source": [
    "results = model.evaluate(X_test,Y_test)\n",
    "print(results[1])"
   ]
  },
  {
   "cell_type": "markdown",
   "id": "d0907634",
   "metadata": {},
   "source": [
    "정확도가 낮은데 data set이 부족한 것이 원인이라고 생각함"
   ]
  }
 ],
 "metadata": {
  "kernelspec": {
   "display_name": "Python 3",
   "language": "python",
   "name": "python3"
  },
  "language_info": {
   "codemirror_mode": {
    "name": "ipython",
    "version": 3
   },
   "file_extension": ".py",
   "mimetype": "text/x-python",
   "name": "python",
   "nbconvert_exporter": "python",
   "pygments_lexer": "ipython3",
   "version": "3.8.8"
  }
 },
 "nbformat": 4,
 "nbformat_minor": 5
}
