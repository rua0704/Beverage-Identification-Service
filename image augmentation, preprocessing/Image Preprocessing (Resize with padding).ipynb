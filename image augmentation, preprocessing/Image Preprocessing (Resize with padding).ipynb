{
 "cells": [
  {
   "cell_type": "code",
   "execution_count": null,
   "metadata": {
    "colab": {
     "base_uri": "https://localhost:8080/"
    },
    "executionInfo": {
     "elapsed": 261,
     "status": "ok",
     "timestamp": 1629315235455,
     "user": {
      "displayName": "이수정",
      "photoUrl": "",
      "userId": "18392410002269238624"
     },
     "user_tz": -540
    },
    "id": "uvCEiUmexAUB",
    "outputId": "1aba5512-e59e-4799-f7ca-92fd19034c50"
   },
   "outputs": [],
   "source": [
    "from google.colab import drive\n",
    "drive.mount('/content/drive/')"
   ]
  },
  {
   "cell_type": "code",
   "execution_count": null,
   "metadata": {
    "colab": {
     "base_uri": "https://localhost:8080/"
    },
    "executionInfo": {
     "elapsed": 250,
     "status": "ok",
     "timestamp": 1629299814637,
     "user": {
      "displayName": "이수정",
      "photoUrl": "",
      "userId": "18392410002269238624"
     },
     "user_tz": -540
    },
    "id": "RrTRgmyFxDuL",
    "outputId": "da8794c6-54ba-4540-cc29-915003d602ad"
   },
   "outputs": [
    {
     "name": "stdout",
     "output_type": "stream",
     "text": [
      "/content/drive/.shortcut-targets-by-id/1s2p6AVRNfBj48PgNCciZQMc8tuLA2TxE/data_100\n"
     ]
    }
   ],
   "source": [
    "cd \"/content/drive/MyDrive/data_100\""
   ]
  },
  {
   "cell_type": "markdown",
   "metadata": {},
   "source": [
    "# Preprocessing을 위한 새로운 폴더 만들기(for 원본 데이터 손상 X)"
   ]
  },
  {
   "cell_type": "code",
   "execution_count": null,
   "metadata": {
    "id": "eQvUdMPtxDwP"
   },
   "outputs": [],
   "source": [
    "import os"
   ]
  },
  {
   "cell_type": "code",
   "execution_count": null,
   "metadata": {
    "id": "2Nunf6bqxDya"
   },
   "outputs": [],
   "source": [
    "train_folder_list = os.listdir('/content/drive/MyDrive/data_100/Training')"
   ]
  },
  {
   "cell_type": "code",
   "execution_count": null,
   "metadata": {
    "colab": {
     "base_uri": "https://localhost:8080/"
    },
    "executionInfo": {
     "elapsed": 432,
     "status": "ok",
     "timestamp": 1629300181125,
     "user": {
      "displayName": "이수정",
      "photoUrl": "",
      "userId": "18392410002269238624"
     },
     "user_tz": -540
    },
    "id": "tlsQKLOu24dX",
    "outputId": "166c1ddf-b397-40db-fbc6-9c4312ae4dc6"
   },
   "outputs": [],
   "source": [
    "#class label 이름\n",
    "list_=[]\n",
    "for k, folder in enumerate(train_folder_list):\n",
    "    train_file_list= os.listdir('/content/drive/MyDrive/data_100/Training/'+ folder)\n",
    "    list_.append(folder)"
   ]
  },
  {
   "cell_type": "code",
   "execution_count": null,
   "metadata": {
    "colab": {
     "base_uri": "https://localhost:8080/"
    },
    "executionInfo": {
     "elapsed": 915,
     "status": "ok",
     "timestamp": 1629315259898,
     "user": {
      "displayName": "이수정",
      "photoUrl": "",
      "userId": "18392410002269238624"
     },
     "user_tz": -540
    },
    "id": "dEkoEHEPxD0j",
    "outputId": "ef6f5f47-2b24-47e5-8b91-fa964cba6720"
   },
   "outputs": [],
   "source": [
    "# 폴더 이름 생성 #Train\n",
    "for folder in list_:\n",
    "    train_file_list= os.mkdir('/content/drive/MyDrive/data_100/224_Training/'+ folder)"
   ]
  },
  {
   "cell_type": "code",
   "execution_count": null,
   "metadata": {},
   "outputs": [],
   "source": [
    "# 폴더 이름 생성 #Test\n",
    "for folder in list_:\n",
    "    train_file_list= os.mkdir('/content/drive/MyDrive/data_100/224_Test/'+ folder)"
   ]
  },
  {
   "cell_type": "code",
   "execution_count": null,
   "metadata": {},
   "outputs": [],
   "source": [
    "# 폴더 이름 생성# Valid\n",
    "for folder in list_:\n",
    "    train_file_list= os.mkdir('/content/drive/MyDrive/data_100/224_Valid/'+ folder)"
   ]
  },
  {
   "cell_type": "markdown",
   "metadata": {
    "colab": {
     "base_uri": "https://localhost:8080/",
     "height": 35
    },
    "executionInfo": {
     "elapsed": 322,
     "status": "ok",
     "timestamp": 1629300437642,
     "user": {
      "displayName": "이수정",
      "photoUrl": "",
      "userId": "18392410002269238624"
     },
     "user_tz": -540
    },
    "id": "sH9C7YyF35be",
    "outputId": "0ec30165-3e62-4900-bd44-fabcd35192fa"
   },
   "source": [
    "# Resize (for 이후의 편의성)\n",
    "## Test의 경우 이미지의 가로세로 비율에 의한 이미지 손상 방지 (padding 사용)"
   ]
  },
  {
   "cell_type": "code",
   "execution_count": null,
   "metadata": {
    "colab": {
     "base_uri": "https://localhost:8080/"
    },
    "executionInfo": {
     "elapsed": 429510,
     "status": "ok",
     "timestamp": 1629306402279,
     "user": {
      "displayName": "이수정",
      "photoUrl": "",
      "userId": "18392410002269238624"
     },
     "user_tz": -540
    },
    "id": "LAIeRr5t8Gow",
    "outputId": "05622971-012f-4b06-878d-61cc866028ae"
   },
   "outputs": [],
   "source": [
    "#Test #Training,Validation의 경우로도 사용 가능\n",
    "\n",
    "from PIL import Image\n",
    "import os.path\n",
    "\n",
    "for i in range(105):\n",
    "    targerdir = r\"/content/drive/MyDrive/data_100/Test/\"+list_[i] #해당 폴더 설정 \n",
    "\n",
    "    files = os.listdir(targerdir)\n",
    "\n",
    "    format = [\".jpg\",\".png\",\".jpeg\",\"bmp\",\".JPG\",\".PNG\",\"JPEG\",\"BMP\"] #지원하는 파일 형태의 확장자들\n",
    "    for (path,dirs,files) in os.walk(targerdir):\n",
    "        for file in files:\n",
    "            if file.endswith(tuple(format)):\n",
    "                img = Image.open(path+'/'+file)\n",
    "                print(img.filename)\n",
    "                print(img.size)\n",
    "                img_size = img.size\n",
    "                x = img_size[0] #넓이값\n",
    "                y = img_size[1] #높이값\n",
    "                size = max(x, y)    \n",
    "                resized_img = Image.new(mode = 'RGB', size = (size, size), color = (102,153,255))# padding\n",
    "                offset = (round((abs(x - size)) / 2), round((abs(y - size)) / 2))\n",
    "                resized_img.paste(img, offset)\n",
    "                resized_img=resized_img.resize((224, 224))\n",
    "                resized_img = resized_img.convert('RGB')\n",
    "                resized_img.save('/content/drive/MyDrive/data_100/224_Test/'+list_[i]+'/'+file)#Training\n",
    "                print(resized_img.size)\n",
    "\n",
    "            else:\n",
    "                print(path)\n",
    "                print(\"InValid\",file)"
   ]
  }
 ],
 "metadata": {
  "colab": {
   "authorship_tag": "ABX9TyPY9mtW4WB3F9vcSBlSEgOX",
   "collapsed_sections": [],
   "name": "resize+사진비율.ipynb",
   "provenance": []
  },
  "kernelspec": {
   "display_name": "Python 3",
   "language": "python",
   "name": "python3"
  },
  "language_info": {
   "codemirror_mode": {
    "name": "ipython",
    "version": 3
   },
   "file_extension": ".py",
   "mimetype": "text/x-python",
   "name": "python",
   "nbconvert_exporter": "python",
   "pygments_lexer": "ipython3",
   "version": "3.8.8"
  }
 },
 "nbformat": 4,
 "nbformat_minor": 1
}
